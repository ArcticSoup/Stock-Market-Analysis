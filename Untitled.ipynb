{
 "cells": [
  {
   "cell_type": "code",
   "execution_count": 7,
   "metadata": {},
   "outputs": [
    {
     "name": "stdout",
     "output_type": "stream",
     "text": [
      "              open      high       low   close   volume\n",
      "date                                                   \n",
      "2014-03-10  242.70  243.0000  236.0600  238.84  7745751\n",
      "2014-03-11  236.50  244.6000  232.4262  234.41  8836349\n",
      "2014-03-12  231.50  247.5000  231.1100  241.49  9763911\n",
      "2014-03-13  243.79  244.1900  234.0000  237.79  6236325\n",
      "2014-03-14  235.29  236.9365  228.3200  230.97  8289733\n",
      "(962, 5)\n",
      "Index(['open', 'high', 'low', 'close', 'volume'], dtype='object')\n"
     ]
    }
   ],
   "source": [
    "import numpy as np\n",
    "import matplotlib.pyplot as plt\n",
    "import seaborn as sns\n",
    "import pandas_datareader as data\n",
    "import pandas as pd\n",
    "from iexfinance.stocks import get_historical_data\n",
    "from datetime import datetime\n",
    "'''def getdata():\n",
    "    start_date='2014-01-01'\n",
    "    end_date='2018-01-01'\n",
    "    start_date = pd.to_datetime(start_date)\n",
    "    end_date = pd.to_datetime(end_date)\n",
    "    df = ['TSLA','AAPL','AAL']\n",
    "    data = get_historical_data(df, start=start_date, end=end_date, output_format='pandas')\n",
    "    # Drop date variable\n",
    "    data = data.drop(['date'], 1)\n",
    "    return data\n",
    "print(getdata())  '''\n",
    "start_date='2014-01-01'\n",
    "end_date='2018-01-01'\n",
    "start_date = pd.to_datetime(start_date)\n",
    "end_date = pd.to_datetime(end_date)\n",
    "\n",
    "df = ['TSLA']\n",
    "\n",
    "data= get_historical_data(df, start=start_date, end=end_date, output_format='pandas')\n",
    "print(data.head())\n",
    "print(data.shape)\n",
    "print(data.columns)\n",
    "\n",
    "#data.plot()\n",
    "#plt.show()\n"
   ]
  },
  {
   "cell_type": "code",
   "execution_count": null,
   "metadata": {},
   "outputs": [],
   "source": []
  }
 ],
 "metadata": {
  "kernelspec": {
   "display_name": "Python 3",
   "language": "python",
   "name": "python3"
  },
  "language_info": {
   "codemirror_mode": {
    "name": "ipython",
    "version": 3
   },
   "file_extension": ".py",
   "mimetype": "text/x-python",
   "name": "python",
   "nbconvert_exporter": "python",
   "pygments_lexer": "ipython3",
   "version": "3.6.7"
  }
 },
 "nbformat": 4,
 "nbformat_minor": 2
}
